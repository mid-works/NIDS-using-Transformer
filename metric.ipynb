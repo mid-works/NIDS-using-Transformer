{
 "cells": [
  {
   "cell_type": "code",
   "execution_count": 31,
   "metadata": {},
   "outputs": [],
   "source": [
    "import pandas as pd\n",
    "import torch\n",
    "from sklearn.metrics import accuracy_score, classification_report, confusion_matrix\n",
    "import logging\n",
    "import joblib"
   ]
  },
  {
   "cell_type": "code",
   "execution_count": null,
   "metadata": {},
   "outputs": [],
   "source": [
    "logging.basicConfig(level=logging.INFO, format='%(asctime)s - %(levelname)s - %(message)s')"
   ]
  },
  {
   "cell_type": "code",
   "execution_count": 33,
   "metadata": {},
   "outputs": [],
   "source": [
    "def evaluate_model(model, X_test, y_test, device):\n",
    "    \n",
    "    try:\n",
    "        model.eval()  # Set the model to evaluation mode\n",
    "        with torch.no_grad():  # Disable gradient calculation\n",
    "            # Convert test data to PyTorch tensors and move to the appropriate device\n",
    "            X_tensor = torch.tensor(X_test.values, dtype=torch.float32).to(device)\n",
    "            # Add sequence dimension\n",
    "            X_tensor = X_tensor.unsqueeze(1)\n",
    "\n",
    "            # Make predictions\n",
    "            outputs = model(X_tensor)\n",
    "            _, predicted = torch.max(outputs, 1)\n",
    "\n",
    "            # Move predictions and true labels to CPU for metric calculation\n",
    "            y_pred = predicted.cpu().numpy()\n",
    "            y_true = y_test.values\n",
    "\n",
    "        # Calculate evaluation metrics\n",
    "        accuracy = accuracy_score(y_true, y_pred)\n",
    "        classification_rep = classification_report(y_true, y_pred)\n",
    "        confusion_mat = confusion_matrix(y_true, y_pred)\n",
    "\n",
    "        # Store the metrics in a dictionary\n",
    "        metrics = {\n",
    "            'accuracy': accuracy,\n",
    "            'classification_report': classification_rep,\n",
    "            'confusion_matrix': confusion_mat\n",
    "        }\n",
    "\n",
    "        logging.info(\"Model evaluation completed successfully.\")\n",
    "        return metrics\n",
    "\n",
    "    except Exception as e:\n",
    "        logging.error(f\"Error during model evaluation: {e}\")\n",
    "        return None"
   ]
  },
  {
   "cell_type": "code",
   "execution_count": 34,
   "metadata": {},
   "outputs": [],
   "source": [
    "import main\n",
    "\n",
    "def load_test_data(file_path, preprocessor_path=\"models/preprocessed_data.joblib\", scaler_path=\"models/scaler.joblib\"):\n",
    "    try:\n",
    "        # Load the saved preprocessor\n",
    "        preprocessor = joblib.load(preprocessor_path)  # Load the preprocessor object\n",
    "        if not isinstance(preprocessor, main.NIDSPreprocessor):\n",
    "            raise ValueError(\"Loaded object is not an instance of NIDSPreprocessor.\")\n",
    "\n",
    "        # Load the data using the preprocessor's load_data method\n",
    "        data = preprocessor.load_data(file_path)\n",
    "\n",
    "        # Extract features and labels\n",
    "        X_test = data.drop('label', axis=1)\n",
    "        y_test = data['label']\n",
    "\n",
    "        # Transform the test data using the preprocessor's transform method\n",
    "        X_test_transformed = preprocessor.transform(X_test)\n",
    "\n",
    "        logging.info(\"Test data loaded and preprocessed successfully.\")\n",
    "        return X_test_transformed, y_test\n",
    "\n",
    "    except FileNotFoundError as e:\n",
    "        logging.error(f\"File not found: {e}\")\n",
    "        return None, None\n",
    "    except Exception as e:\n",
    "        logging.error(f\"Error loading or preprocessing test data: {e}\")\n",
    "        return None, None"
   ]
  },
  {
   "cell_type": "code",
   "execution_count": 35,
   "metadata": {},
   "outputs": [],
   "source": [
    "def load_trained_model(model_path, input_dim, device, model_class):\n",
    "    \n",
    "    try:\n",
    "        # Initialize the model with the appropriate input dimension\n",
    "        model = model_class(input_dim=input_dim)\n",
    "        model.load_state_dict(torch.load(model_path, map_location=device))\n",
    "        model.to(device)  # Move the model to the specified device\n",
    "        model.eval()  # Set the model to evaluation mode\n",
    "        logging.info(\"Trained model loaded successfully.\")\n",
    "        return model\n",
    "    except FileNotFoundError as e:\n",
    "        logging.error(f\"Model file not found: {e}\")\n",
    "        return None\n",
    "    except Exception as e:\n",
    "        logging.error(f\"Error loading model: {e}\")\n",
    "        return None\n"
   ]
  },
  {
   "cell_type": "code",
   "execution_count": 36,
   "metadata": {},
   "outputs": [],
   "source": [
    "def print_metrics(metrics):\n",
    "    \n",
    "    if metrics:\n",
    "        print(\"Evaluation Metrics:\")\n",
    "        print(f\"Accuracy: {metrics['accuracy']:.4f}\")\n",
    "        print(\"\\nClassification Report:\\n\", metrics['classification_report'])\n",
    "        print(\"\\nConfusion Matrix:\\n\", metrics['confusion_matrix'])\n",
    "    else:\n",
    "        print(\"No metrics to print.\")"
   ]
  },
  {
   "cell_type": "code",
   "execution_count": 37,
   "metadata": {},
   "outputs": [
    {
     "name": "stderr",
     "output_type": "stream",
     "text": [
      "2025-03-31 07:43:56,604 - ERROR - Error loading or preprocessing test data: Loaded object is not an instance of NIDSPreprocessor.\n"
     ]
    },
    {
     "name": "stdout",
     "output_type": "stream",
     "text": [
      "Failed to load test data.\n"
     ]
    }
   ],
   "source": [
    "if __name__ == \"__main__\":\n",
    "    # Configurations\n",
    "    TEST_DATA_FILE = 'data/UNSW-NB15_4.csv'  # Path to your test dataset\n",
    "    MODEL_PATH = \"models/transformer_model.pth\"  # Path to your trained model\n",
    "    PREPROCESSOR_PATH = \"models/preprocessed_data.joblib\"  # Path to the preprocessor\n",
    "    SCALER_PATH = \"models/scaler.joblib\"\n",
    "    INPUT_DIM = 43  # Input dimension of your model\n",
    "    DEVICE = torch.device(\"cuda\" if torch.cuda.is_available() else \"cpu\")  # Use GPU if available\n",
    "    MODEL_CLASS = None\n",
    "    try:\n",
    "        import main\n",
    "        MODEL_CLASS = main.TransformerNIDS\n",
    "    except Exception as e:\n",
    "        print(\"error loading main model: \" + str(e))\n",
    "\n",
    "    # Load test data\n",
    "    X_test, y_test = load_test_data(TEST_DATA_FILE, PREPROCESSOR_PATH, SCALER_PATH)\n",
    "    if X_test is None or y_test is None:\n",
    "        print(\"Failed to load test data.\")\n",
    "    elif MODEL_CLASS is None:\n",
    "        print(\"Model class not loaded.\")\n",
    "    else:\n",
    "        # Load the trained model\n",
    "        trained_model = load_trained_model(MODEL_PATH, INPUT_DIM, DEVICE, MODEL_CLASS)\n",
    "\n",
    "        if trained_model:\n",
    "            # Evaluate the model\n",
    "            metrics = evaluate_model(trained_model, X_test, y_test, DEVICE)\n",
    "\n",
    "            # Print the evaluation metrics\n",
    "            print_metrics(metrics)\n",
    "        else:\n",
    "            print(\"Failed to load the trained model.\")"
   ]
  },
  {
   "cell_type": "code",
   "execution_count": null,
   "metadata": {},
   "outputs": [],
   "source": []
  }
 ],
 "metadata": {
  "kernelspec": {
   "display_name": ".venv",
   "language": "python",
   "name": "python3"
  },
  "language_info": {
   "codemirror_mode": {
    "name": "ipython",
    "version": 3
   },
   "file_extension": ".py",
   "mimetype": "text/x-python",
   "name": "python",
   "nbconvert_exporter": "python",
   "pygments_lexer": "ipython3",
   "version": "3.12.6"
  }
 },
 "nbformat": 4,
 "nbformat_minor": 2
}
